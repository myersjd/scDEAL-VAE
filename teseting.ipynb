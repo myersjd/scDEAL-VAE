{
 "cells": [
  {
   "cell_type": "code",
   "execution_count": 1,
   "metadata": {},
   "outputs": [],
   "source": [
    "import logging\n",
    "import re\n",
    "\n",
    "sys.append\n",
    "import matplotlib.pyplot as plt\n",
    "import numpy as np\n",
    "import pandas as pd\n",
    "import scanpy as sc\n",
    "from captum.attr import IntegratedGradients\n",
    "from pandas import read_excel\n",
    "from scipy.stats import mannwhitneyu\n",
    "from sklearn.metrics import precision_recall_curve, roc_curve\n",
    "import scanpypip.utils as ut"
   ]
  },
  {
   "cell_type": "code",
   "execution_count": 2,
   "metadata": {},
   "outputs": [],
   "source": [
    "import scanpypip.preprocessing as pp"
   ]
  },
  {
   "cell_type": "code",
   "execution_count": null,
   "metadata": {},
   "outputs": [],
   "source": [
    "adata = pp.read_sc_file(\"data/GSE117872/GSE117872_good_Data_TPM.txt\")"
   ]
  },
  {
   "cell_type": "code",
   "execution_count": null,
   "metadata": {},
   "outputs": [],
   "source": [
    "annotation = pd.read_csv('data/GSE117872/GSE117872_good_Data_cellinfo.txt',sep=\"\\t\",index_col=\"groups\")\n",
    "for item in annotation.columns:\n",
    "    #adata.obs[str(item)] = annotation.loc[:,item].convert_dtypes('category').values\n",
    "    adata.obs[str(item)] = annotation.loc[:,item].astype(\"category\")\n",
    "\n",
    "if \"select_origin\" in kargs:\n",
    "    origin = kargs['select_origin']\n",
    "    if origin!=\"all\":\n",
    "        selected=adata.obs['origin']==origin\n",
    "        selected=selected.to_numpy('bool')\n",
    "        adata = adata[selected, :]\n",
    "\n",
    "sensitive = [int(row.find(\"Resistant\")==-1) for row in adata.obs.loc[:,\"cluster\"]]\n",
    "sens_ = ['Resistant' if (row.find(\"Resistant\")!=-1) else 'Sensitive' for row in adata.obs.loc[:,\"cluster\"]]\n",
    "#adata.obs.loc[adata.obs.cluster==\"Holiday\",\"cluster\"] = \"Sensitive\"\n",
    "adata.obs['sensitive'] = sensitive\n",
    "adata.obs['sensitivity'] = sens_\n",
    "\n",
    "# Cluster de score\n",
    "pval = 0.05\n",
    "n_genes = 50\n",
    "if \"pval_thres\" in kargs:\n",
    "    pval=kargs['pval_thres']\n",
    "if \"num_de\" in kargs:\n",
    "    n_genes = kargs['num_de']\n",
    "adata = de_score(adata=adata,clustername=\"sensitivity\",pval=pval,n=n_genes)"
   ]
  }
 ],
 "metadata": {
  "kernelspec": {
   "display_name": "kangroo",
   "language": "python",
   "name": "python3"
  },
  "language_info": {
   "codemirror_mode": {
    "name": "ipython",
    "version": 3
   },
   "file_extension": ".py",
   "mimetype": "text/x-python",
   "name": "python",
   "nbconvert_exporter": "python",
   "pygments_lexer": "ipython3",
   "version": "3.10.13"
  }
 },
 "nbformat": 4,
 "nbformat_minor": 2
}
